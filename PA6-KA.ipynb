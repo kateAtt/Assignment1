{
 "cells": [
  {
   "cell_type": "markdown",
   "id": "48c4cb95",
   "metadata": {},
   "source": [
    "# PA 6\n",
    "## CS-150-01 SP 23\n",
    "#### Kate Attias"
   ]
  },
  {
   "cell_type": "markdown",
   "id": "2188a109",
   "metadata": {},
   "source": [
    "### 1. Function to calculate triangle perimeter and area from input of 3 sides\n",
    "\n",
    "calcArea()\n",
    "calcPerimeter()"
   ]
  },
  {
   "cell_type": "code",
   "execution_count": 3,
   "id": "c76d2a52",
   "metadata": {},
   "outputs": [
    {
     "name": "stdout",
     "output_type": "stream",
     "text": [
      "enter side a = 2\n",
      "enter side b = 3\n",
      "enter side c = 4\n",
      "approximate area = 2.9047375096555625 square units\n",
      "perimeter = 9 linear units\n"
     ]
    }
   ],
   "source": [
    "import math\n",
    "a=None\n",
    "b=None\n",
    "c=None\n",
    "sides=[]\n",
    "a=int(input(\"enter side a = \"))\n",
    "b=int(input(\"enter side b = \"))\n",
    "c= int(input(\"enter side c = \"))\n",
    "sp=(a+b+c)/2 # semi-perimeter\n",
    "sides.append(a)\n",
    "sides.append(b)\n",
    "sides.append(c)\n",
    "def calcArea(*args):\n",
    "    return math.sqrt(sp*((sp-a)*(sp-b)*(sp-c)))\n",
    "def calcPerimeter(*args):\n",
    "    return a+b+c\n",
    "print(f\"approximate area = {calcArea(*sides)} square units\")\n",
    "print(f\"perimeter = {calcPerimeter(*sides)} linear units\")"
   ]
  },
  {
   "cell_type": "markdown",
   "id": "86d0be8e",
   "metadata": {},
   "source": [
    "### 2. Guess the number from 1 - 1000\n",
    "\n",
    "evaluate_guess()"
   ]
  },
  {
   "cell_type": "code",
   "execution_count": 2,
   "id": "11657e84",
   "metadata": {},
   "outputs": [
    {
     "name": "stdout",
     "output_type": "stream",
     "text": [
      "guess a # between 1 and 1000 = 300\n",
      "too high! try again\n",
      "guess a # between 1 and 1000 = 150\n",
      "too low! try again\n",
      "guess a # between 1 and 1000 = 235\n",
      "too high! try again\n",
      "guess a # between 1 and 1000 = 230\n",
      "too high! try again\n",
      "guess a # between 1 and 1000 = 200\n",
      "too low! try again\n",
      "guess a # between 1 and 1000 = 215\n",
      "too low! try again\n",
      "guess a # between 1 and 1000 = 218\n",
      "too low! try again\n",
      "guess a # between 1 and 1000 = 227\n",
      "correct!\n",
      "you took 8 chances\n"
     ]
    }
   ],
   "source": [
    "import random\n",
    "num=random.randint(1,1000)\n",
    "num2=None\n",
    "time=0 \n",
    "while num2!=num:\n",
    "    num2=int(input(\"guess a # between 1 and 1000 = \"))\n",
    "    if num2==num:\n",
    "        print(\"correct!\")\n",
    "        time+=1\n",
    "    elif num2>num:\n",
    "        print(\"too high! try again\")\n",
    "        time+=1\n",
    "    else:\n",
    "        print(\"too low! try again\")\n",
    "        time+=1\n",
    "print(f\"you took {time} chances\")"
   ]
  },
  {
   "cell_type": "markdown",
   "id": "40b4d386",
   "metadata": {},
   "source": [
    "### 3. Calculating mean Farenheit over a number of days\n",
    "\n",
    "meanTemp()"
   ]
  },
  {
   "cell_type": "code",
   "execution_count": null,
   "id": "8160bbaf",
   "metadata": {},
   "outputs": [],
   "source": []
  }
 ],
 "metadata": {
  "kernelspec": {
   "display_name": "Python 3 (ipykernel)",
   "language": "python",
   "name": "python3"
  },
  "language_info": {
   "codemirror_mode": {
    "name": "ipython",
    "version": 3
   },
   "file_extension": ".py",
   "mimetype": "text/x-python",
   "name": "python",
   "nbconvert_exporter": "python",
   "pygments_lexer": "ipython3",
   "version": "3.9.13"
  }
 },
 "nbformat": 4,
 "nbformat_minor": 5
}
