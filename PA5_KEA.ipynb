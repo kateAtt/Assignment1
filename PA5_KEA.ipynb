{
 "cells": [
  {
   "cell_type": "markdown",
   "id": "e7b5101a",
   "metadata": {},
   "source": [
    "# PA 5 \n",
    "# CS150-01 SP23\n",
    "### Kate Attias"
   ]
  },
  {
   "cell_type": "markdown",
   "id": "32283386",
   "metadata": {},
   "source": [
    "### Language Translator\n",
    "##### ask for words in English to translate to French until the user enters the number zero (0)"
   ]
  },
  {
   "cell_type": "code",
   "execution_count": 2,
   "id": "8523df07",
   "metadata": {},
   "outputs": [
    {
     "name": "stdout",
     "output_type": "stream",
     "text": [
      "{'dog': 'chien', 'cat': 'chat', 'man': \"l'homme\", 'woman': 'femme', 'mother': 'mère', 'father': 'père', 'library': 'bibliothèque', 'shop': 'boutique', 'happy': 'heureux', 'sad': 'triste'}\n"
     ]
    }
   ],
   "source": [
    "words={\n",
    "    'dog':'chien',\n",
    "    'cat':'chat',\n",
    "    'man':'l\\'homme',\n",
    "    'woman':'femme',\n",
    "    'mother':'mère',\n",
    "    'father':'père',\n",
    "    'library':'bibliothèque',\n",
    "    'shop':'boutique',\n",
    "    'happy':'heureux',\n",
    "    'sad':'triste'\n",
    "}\n",
    "print(words)"
   ]
  },
  {
   "cell_type": "code",
   "execution_count": 7,
   "id": "0b774d1f",
   "metadata": {},
   "outputs": [],
   "source": [
    "prompt=\"\\nType 0 to exit.  Enter a word to recieve French translation:  \""
   ]
  },
  {
   "cell_type": "code",
   "execution_count": 13,
   "id": "6e1dc294",
   "metadata": {},
   "outputs": [
    {
     "name": "stdout",
     "output_type": "stream",
     "text": [
      "\n",
      "Type 0 to exit.  Enter a word to recieve French translation:  cat\n",
      "Cat  is  chat\n",
      "\n",
      "Type 0 to exit.  Enter a word to recieve French translation:  dog\n",
      "Dog  is  chien\n",
      "\n",
      "Type 0 to exit.  Enter a word to recieve French translation:  mother\n",
      "Mother  is  mère\n",
      "\n",
      "Type 0 to exit.  Enter a word to recieve French translation:  car\n",
      "Car is not in this dictionary.\n",
      "\n",
      "Type 0 to exit.  Enter a word to recieve French translation:  0\n"
     ]
    }
   ],
   "source": [
    "while words:\n",
    "    word=input(prompt)\n",
    "    if word in words:\n",
    "        print(word.title(),\" is \",words[word])\n",
    "    elif word=='0':\n",
    "        break\n",
    "    else:\n",
    "        print(word.title()+\" is not in this dictionary.\")"
   ]
  },
  {
   "cell_type": "markdown",
   "id": "e3a5fdcc",
   "metadata": {},
   "source": [
    "### Temperature Converter\n",
    "##### Access each temperature value in Fahrenheit from the dictionary, convert it to Celsius, then return it to the original dictionary."
   ]
  },
  {
   "cell_type": "code",
   "execution_count": 20,
   "id": "d458e939",
   "metadata": {},
   "outputs": [],
   "source": [
    "temp={\n",
    "    1:36,\n",
    "    2:34,\n",
    "    3:35,\n",
    "    4:35,\n",
    "    5:32,\n",
    "    6:30,\n",
    "    7:29,\n",
    "    8:32,\n",
    "    9:34,\n",
    "    10:38,\n",
    "    11:40,\n",
    "    12:39,\n",
    "    13:32,\n",
    "    14:34,\n",
    "    15:34\n",
    "    \n",
    "}"
   ]
  },
  {
   "cell_type": "code",
   "execution_count": 19,
   "id": "b2d5a581",
   "metadata": {},
   "outputs": [
    {
     "name": "stdout",
     "output_type": "stream",
     "text": [
      "{1: 2, 2: 1, 3: 2, 4: 2, 5: 0, 6: -1, 7: -2, 8: 0, 9: 1, 10: 3, 11: 4, 12: 4, 13: 0, 14: 1, 15: 1}\n"
     ]
    }
   ],
   "source": [
    "for d,t in temp.items():\n",
    "    temp[d]=round((t-32)*(5/9))\n",
    "print(temp)"
   ]
  },
  {
   "cell_type": "code",
   "execution_count": 21,
   "id": "a3dcb39c",
   "metadata": {},
   "outputs": [
    {
     "name": "stdout",
     "output_type": "stream",
     "text": [
      "{1: 2.2222222222222223, 2: 1.1111111111111112, 3: 1.6666666666666667, 4: 1.6666666666666667, 5: 0.0, 6: -1.1111111111111112, 7: -1.6666666666666667, 8: 0.0, 9: 1.1111111111111112, 10: 3.3333333333333335, 11: 4.444444444444445, 12: 3.8888888888888893, 13: 0.0, 14: 1.1111111111111112, 15: 1.1111111111111112}\n"
     ]
    }
   ],
   "source": [
    "# without using round()\n",
    "for d,t in temp.items():\n",
    "    temp[d]=(t-32)*(5/9)\n",
    "print(temp)"
   ]
  },
  {
   "cell_type": "markdown",
   "id": "0597a908",
   "metadata": {},
   "source": [
    "### Dict. 1-15 as keys, key^2 as values\n",
    "##### Write a Python script to print a dictionary where the keys are numbers between 1 and 15 (both included) and the values are the squares of keys."
   ]
  },
  {
   "cell_type": "code",
   "execution_count": 6,
   "id": "b0b61349",
   "metadata": {},
   "outputs": [
    {
     "name": "stdout",
     "output_type": "stream",
     "text": [
      "{0: 0, 1: 1, 2: 4, 3: 9, 4: 16, 5: 25, 6: 36, 7: 49, 8: 64, 9: 81, 10: 100, 11: 121, 12: 144, 13: 169, 14: 196, 15: 225}\n"
     ]
    }
   ],
   "source": [
    "numbers={}\n",
    "for i in range(16):\n",
    "    numbers[i]=i**2\n",
    "print(numbers)"
   ]
  }
 ],
 "metadata": {
  "kernelspec": {
   "display_name": "Python 3 (ipykernel)",
   "language": "python",
   "name": "python3"
  },
  "language_info": {
   "codemirror_mode": {
    "name": "ipython",
    "version": 3
   },
   "file_extension": ".py",
   "mimetype": "text/x-python",
   "name": "python",
   "nbconvert_exporter": "python",
   "pygments_lexer": "ipython3",
   "version": "3.9.13"
  }
 },
 "nbformat": 4,
 "nbformat_minor": 5
}
