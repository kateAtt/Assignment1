{
 "cells": [
  {
   "cell_type": "markdown",
   "id": "e40fea43",
   "metadata": {},
   "source": [
    "#### 1/9/2023 SP \n",
    "#### Kate Attias"
   ]
  },
  {
   "cell_type": "markdown",
   "id": "c6479cd0",
   "metadata": {},
   "source": [
    "# CS-150-01\n",
    "## Getting started with markdown"
   ]
  },
  {
   "cell_type": "markdown",
   "id": "ad3e12da",
   "metadata": {},
   "source": [
    "### Version 1"
   ]
  },
  {
   "cell_type": "markdown",
   "id": "2e802e8a",
   "metadata": {},
   "source": [
    "> words"
   ]
  },
  {
   "cell_type": "markdown",
   "id": "d9c30894",
   "metadata": {},
   "source": [
    "* Course intro\n",
    "* Variables and Simple Data Types\n",
    "* Introducing Lists, Tuples\n",
    "* if Statements\n",
    "* Dictionaries\n",
    "* While Loops\n",
    "* Functions\n",
    "* Classes\n",
    "* Numpy"
   ]
  },
  {
   "cell_type": "markdown",
   "id": "d1220915",
   "metadata": {},
   "source": [
    "1. Read Ch 1\n",
    "2. Read Ch 2\n",
    "3. Assingment 1\n",
    "4. Read Ch 3, 4\n",
    "5. Assignment 2\n",
    "6. Read Ch 5\n",
    "7. Assignment 3\n",
    "8. ...\n"
   ]
  },
  {
   "cell_type": "markdown",
   "id": "12838a09",
   "metadata": {},
   "source": [
    "* **this is a sentence with bold words**\n",
    "* *this is a sentence with italics*"
   ]
  },
  {
   "cell_type": "markdown",
   "id": "14dec1ce",
   "metadata": {},
   "source": [
    "sentence with `highlight`"
   ]
  },
  {
   "cell_type": "markdown",
   "id": "da1afbd9",
   "metadata": {},
   "source": [
    "access Github \n",
    "<a href=\"https://github.com/login?\">here</a>"
   ]
  },
  {
   "cell_type": "markdown",
   "id": "9baf5ddc",
   "metadata": {},
   "source": [
    "![image](https://www.python.org/static/community_logos/python-logo-master-v3-TM-flattened.png)"
   ]
  }
 ],
 "metadata": {
  "kernelspec": {
   "display_name": "Python 3 (ipykernel)",
   "language": "python",
   "name": "python3"
  },
  "language_info": {
   "codemirror_mode": {
    "name": "ipython",
    "version": 3
   },
   "file_extension": ".py",
   "mimetype": "text/x-python",
   "name": "python",
   "nbconvert_exporter": "python",
   "pygments_lexer": "ipython3",
   "version": "3.9.13"
  }
 },
 "nbformat": 4,
 "nbformat_minor": 5
}
