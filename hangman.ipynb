{
 "cells": [
  {
   "cell_type": "markdown",
   "id": "76ed5598",
   "metadata": {},
   "source": [
    "# Hangman"
   ]
  },
  {
   "cell_type": "code",
   "execution_count": null,
   "id": "12f2574e",
   "metadata": {},
   "outputs": [],
   "source": [
    "def game(on):\n",
    "    import time\n",
    "    print(\"The Hangman Game\")\n",
    "    time.sleep(1)\n",
    "    print(\"start guessing: \")\n",
    "    time.sleep(0.5)\n",
    "    word=(\"test\")\n",
    "    guess=''\n",
    "    turns=10\n",
    "    while on==1:\n",
    "        while turns>0:\n",
    "                failed=0\n",
    "                for char in word:\n",
    "                    if char in guess:\n",
    "                        print(char,end=\" \"),\n",
    "                    else:\n",
    "                        print(\"_ \",end=\"\"),\n",
    "                        failed += 1\n",
    "                if failed==0:\n",
    "                    print(\"You guessed it correctly\")\n",
    "                    break\n",
    "                g=input(\"guess a letter: \")\n",
    "                guess+=g\n",
    "                if g not in word:\n",
    "                    turns-=1\n",
    "                    print(\"incorrect\")\n",
    "                    print(\"you have\",+turns,'more guesses')\n",
    "                    if turns==0:\n",
    "                        print(\"you lose\")\n",
    "                else:\n",
    "                    break"
   ]
  },
  {
   "cell_type": "code",
   "execution_count": null,
   "id": "ac8101ab",
   "metadata": {},
   "outputs": [],
   "source": []
  },
  {
   "cell_type": "code",
   "execution_count": null,
   "id": "b3764f00",
   "metadata": {},
   "outputs": [],
   "source": []
  },
  {
   "cell_type": "code",
   "execution_count": null,
   "id": "814a6747",
   "metadata": {},
   "outputs": [],
   "source": []
  },
  {
   "cell_type": "code",
   "execution_count": null,
   "id": "a91f497a",
   "metadata": {},
   "outputs": [],
   "source": []
  },
  {
   "cell_type": "markdown",
   "id": "f24bf6aa",
   "metadata": {},
   "source": [
    "# Hangman Game\n",
    "### Guess single letters\n",
    "#### You have 10 guesses to get the word correct"
   ]
  },
  {
   "cell_type": "code",
   "execution_count": null,
   "id": "1236e88c",
   "metadata": {},
   "outputs": [],
   "source": []
  }
 ],
 "metadata": {
  "kernelspec": {
   "display_name": "Python 3 (ipykernel)",
   "language": "python",
   "name": "python3"
  },
  "language_info": {
   "codemirror_mode": {
    "name": "ipython",
    "version": 3
   },
   "file_extension": ".py",
   "mimetype": "text/x-python",
   "name": "python",
   "nbconvert_exporter": "python",
   "pygments_lexer": "ipython3",
   "version": "3.9.13"
  }
 },
 "nbformat": 4,
 "nbformat_minor": 5
}
