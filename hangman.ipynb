{
 "cells": [
  {
   "cell_type": "markdown",
   "id": "c4732b07",
   "metadata": {},
   "source": [
    "# Hangman"
   ]
  },
  {
   "cell_type": "code",
   "execution_count": null,
   "id": "016563a8",
   "metadata": {},
   "outputs": [],
   "source": [
    "def game(on):\n",
    "    import time\n",
    "    print(\"The Hangman Game\")\n",
    "    time.sleep(1)\n",
    "    print(\"start guessing: \")\n",
    "    time.sleep(0.5)\n",
    "    word=(\"test\")\n",
    "    guess=''\n",
    "    turns=10\n",
    "    while on==1:\n",
    "        while turns>0:\n",
    "                failed=0\n",
    "                for char in word:\n",
    "                    if char in guess:\n",
    "                        print(char,end=\" \"),\n",
    "                    else:\n",
    "                        print(\"_ \",end=\"\"),\n",
    "                        failed += 1\n",
    "                if failed==0:\n",
    "                    print(\"You guessed it correctly\")\n",
    "                    break\n",
    "                g=input(\"guess a letter: \")\n",
    "                guess+=g\n",
    "                if g not in word:\n",
    "                    turns-=1\n",
    "                    print(\"incorrect\")\n",
    "                    print(\"you have\",+turns,'more guesses')\n",
    "                    if turns==0:\n",
    "                        print(\"you lose\")\n",
    "                else:\n",
    "                    break"
   ]
  },
  {
   "cell_type": "code",
   "execution_count": null,
   "id": "cd83fe9e",
   "metadata": {},
   "outputs": [],
   "source": []
  },
  {
   "cell_type": "code",
   "execution_count": 1,
   "id": "b397d0b6",
   "metadata": {},
   "outputs": [],
   "source": [
    "word_bank={'a','dog',\n",
    "      'b','cat',\n",
    "      'c','mouse',\n",
    "      'd','horse',\n",
    "      'e','cow',\n",
    "      'f','bunny'\n",
    "      'g','golf'\n",
    "      'h','heap'\n",
    "      'i','tennis'\n",
    "      'j','ball'\n",
    "      'k','play'\n",
    "      'l','run'\n",
    "      'm','hello'\n",
    "      'n','meat'\n",
    "      'o','tree'\n",
    "      'p','plant'\n",
    "      'q','bike'\n",
    "      'r','wild'\n",
    "      's','prize'\n",
    "      't','new'\n",
    "      'u','nope'\n",
    "      'v','red'\n",
    "      'w','blue'\n",
    "      'z','green'\n",
    "}"
   ]
  },
  {
   "cell_type": "code",
   "execution_count": 6,
   "id": "03315f4c",
   "metadata": {},
   "outputs": [
    {
     "data": {
      "text/plain": [
       "'bunnyg'"
      ]
     },
     "execution_count": 6,
     "metadata": {},
     "output_type": "execute_result"
    }
   ],
   "source": [
    "import random\n",
    "random.choice(list(word_bank))"
   ]
  },
  {
   "cell_type": "code",
   "execution_count": null,
   "id": "48c8f5d2",
   "metadata": {},
   "outputs": [],
   "source": []
  },
  {
   "cell_type": "markdown",
   "id": "47d6ef23",
   "metadata": {},
   "source": [
    "# Hangman Game\n",
    "### Guess single letters\n",
    "#### You have 10 guesses to get the word correct"
   ]
  },
  {
   "cell_type": "code",
   "execution_count": null,
   "id": "e28e1038",
   "metadata": {},
   "outputs": [],
   "source": []
  }
 ],
 "metadata": {
  "kernelspec": {
   "display_name": "Python 3 (ipykernel)",
   "language": "python",
   "name": "python3"
  },
  "language_info": {
   "codemirror_mode": {
    "name": "ipython",
    "version": 3
   },
   "file_extension": ".py",
   "mimetype": "text/x-python",
   "name": "python",
   "nbconvert_exporter": "python",
   "pygments_lexer": "ipython3",
   "version": "3.9.13"
  }
 },
 "nbformat": 4,
 "nbformat_minor": 5
}
