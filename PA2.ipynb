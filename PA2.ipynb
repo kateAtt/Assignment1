{
 "cells": [
  {
   "cell_type": "markdown",
   "id": "cbe0d173",
   "metadata": {},
   "source": [
    "# PA2\n",
    "### Kate Attias\n",
    "##### CS 150 SP"
   ]
  },
  {
   "cell_type": "code",
   "execution_count": 1,
   "id": "f9cac482",
   "metadata": {
    "scrolled": true
   },
   "outputs": [
    {
     "name": "stdout",
     "output_type": "stream",
     "text": [
      "enter a floating point number= 20.5\n",
      "enter an integer= 27\n"
     ]
    }
   ],
   "source": [
    "floatnum=input(\"enter a floating point number= \")\n",
    "intnum=input(\"enter an integer= \")"
   ]
  },
  {
   "cell_type": "code",
   "execution_count": 3,
   "id": "5bb7bf84",
   "metadata": {},
   "outputs": [
    {
     "name": "stdout",
     "output_type": "stream",
     "text": [
      "the sum=  47.5\n"
     ]
    }
   ],
   "source": [
    "print(\"the sum= \",20.5+27)"
   ]
  },
  {
   "cell_type": "code",
   "execution_count": 4,
   "id": "8f7c09b3",
   "metadata": {},
   "outputs": [
    {
     "name": "stdout",
     "output_type": "stream",
     "text": [
      "the difference= -6.5\n"
     ]
    }
   ],
   "source": [
    "print(\"the difference=\",20.5-27)"
   ]
  },
  {
   "cell_type": "code",
   "execution_count": 5,
   "id": "6e7aa7ec",
   "metadata": {},
   "outputs": [
    {
     "name": "stdout",
     "output_type": "stream",
     "text": [
      "the product= 553.5\n",
      "the quotient= 0.7592592592592593\n"
     ]
    }
   ],
   "source": [
    "print(\"the product=\",20.5*27)\n",
    "print(\"the quotient=\",20.5/27)"
   ]
  },
  {
   "cell_type": "code",
   "execution_count": 7,
   "id": "b3f655f8",
   "metadata": {},
   "outputs": [
    {
     "name": "stdout",
     "output_type": "stream",
     "text": [
      "<class 'float'>\n"
     ]
    }
   ],
   "source": [
    "print(type(553.5))"
   ]
  }
 ],
 "metadata": {
  "kernelspec": {
   "display_name": "Python 3 (ipykernel)",
   "language": "python",
   "name": "python3"
  },
  "language_info": {
   "codemirror_mode": {
    "name": "ipython",
    "version": 3
   },
   "file_extension": ".py",
   "mimetype": "text/x-python",
   "name": "python",
   "nbconvert_exporter": "python",
   "pygments_lexer": "ipython3",
   "version": "3.9.13"
  }
 },
 "nbformat": 4,
 "nbformat_minor": 5
}
