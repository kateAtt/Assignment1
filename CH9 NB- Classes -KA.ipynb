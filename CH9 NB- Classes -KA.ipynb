{
 "cells": [
  {
   "cell_type": "markdown",
   "id": "4ef4485e",
   "metadata": {},
   "source": [
    "# Ch9 Classes"
   ]
  },
  {
   "cell_type": "markdown",
   "id": "7b465366",
   "metadata": {},
   "source": [
    "### Python is an object oriented programming language.\n",
    "- Almost everything in Python is an object, with its properties and methods (Functions).\n",
    "- A Class is like an object constructor, or a \"blueprint\" for creating objects."
   ]
  },
  {
   "cell_type": "code",
   "execution_count": 6,
   "id": "741b88de",
   "metadata": {},
   "outputs": [
    {
     "name": "stdout",
     "output_type": "stream",
     "text": [
      "Employee 1 - Riebli, Kate\n",
      "Employee 1 age- 18\n",
      "Employee 1 email- kate.riebli@company.org\n"
     ]
    }
   ],
   "source": [
    "class employee(): # name of the class\n",
    "    \n",
    "    def __init__(self,first,last,age,dept):# init method/function is the constructor of the class; every class REQUIRES an init\n",
    "    # self represents instance of the class\n",
    "        self.first=first.title()\n",
    "        self.last=last.title()\n",
    "        self.age=age\n",
    "        self.dept=dept.title()\n",
    "        self.email=first+\".\"+last+\"@company.org\"\n",
    "    \n",
    "# init will run automatically when u call the class\n",
    "emp1=employee(\"kate\",\"riebli\",18,\"physics\")\n",
    "emp2=employee(\"aj\",\"riebli\",20,\"finance\")\n",
    "emp3=employee(\"christian\",\"basil\",19,\"business\")\n",
    "\n",
    "print(f\"Employee 1 - {emp1.last}, {emp1.first}\")\n",
    "print(f\"Employee 1 age- {emp1.age}\")\n",
    "print(f\"Employee 1 email- {emp1.email}\")\n"
   ]
  },
  {
   "cell_type": "code",
   "execution_count": 7,
   "id": "a9136cf8",
   "metadata": {},
   "outputs": [
    {
     "name": "stdout",
     "output_type": "stream",
     "text": [
      "Employee 2 - Riebli, Aj\n",
      "Employee 2 age- 20\n",
      "Employee 2 email- aj.riebli@company.org\n"
     ]
    }
   ],
   "source": [
    "print(f\"Employee 2 - {emp2.last}, {emp2.first}\")\n",
    "print(f\"Employee 2 age- {emp2.age}\")\n",
    "print(f\"Employee 2 email- {emp2.email}\")"
   ]
  },
  {
   "cell_type": "code",
   "execution_count": 15,
   "id": "1878c8c8",
   "metadata": {},
   "outputs": [
    {
     "ename": "AttributeError",
     "evalue": "'employee' object has no attribute 'fullname'",
     "output_type": "error",
     "traceback": [
      "\u001b[1;31m---------------------------------------------------------------------------\u001b[0m",
      "\u001b[1;31mAttributeError\u001b[0m                            Traceback (most recent call last)",
      "\u001b[1;32m~\\AppData\\Local\\Temp\\ipykernel_12272\\1649660778.py\u001b[0m in \u001b[0;36m<module>\u001b[1;34m\u001b[0m\n\u001b[0;32m     11\u001b[0m         \u001b[0mprint\u001b[0m\u001b[1;33m(\u001b[0m\u001b[1;34mf\"Employee full name: {self.first} {self.last}\"\u001b[0m\u001b[1;33m)\u001b[0m\u001b[1;33m\u001b[0m\u001b[1;33m\u001b[0m\u001b[0m\n\u001b[0;32m     12\u001b[0m \u001b[1;31m# print(emp1.fullname()) # cant use print, just use it as any function\u001b[0m\u001b[1;33m\u001b[0m\u001b[1;33m\u001b[0m\u001b[0m\n\u001b[1;32m---> 13\u001b[1;33m \u001b[0memp1\u001b[0m\u001b[1;33m.\u001b[0m\u001b[0mfullname\u001b[0m\u001b[1;33m(\u001b[0m\u001b[0mself\u001b[0m\u001b[1;33m)\u001b[0m\u001b[1;33m\u001b[0m\u001b[1;33m\u001b[0m\u001b[0m\n\u001b[0m",
      "\u001b[1;31mAttributeError\u001b[0m: 'employee' object has no attribute 'fullname'"
     ]
    }
   ],
   "source": [
    "class employee2(): \n",
    "    \n",
    "    def __init__(self,first,last,age,dept):\n",
    "        self.first=first.title()\n",
    "        self.last=last.title()\n",
    "        self.age=age\n",
    "        self.dept=dept.title()\n",
    "        self.email=first+\".\"+last+\"@company.org\"\n",
    "    # creating method  to return full name\n",
    "    def fullname(self,first,last):\n",
    "        print(f\"Employee full name: {self.first} {self.last}\")\n",
    "# print(emp1.fullname()) # cant use print, just use it as any function\n",
    "emp1.fullname(self)"
   ]
  },
  {
   "cell_type": "code",
   "execution_count": 13,
   "id": "02e9342a",
   "metadata": {},
   "outputs": [
    {
     "ename": "AttributeError",
     "evalue": "'employee' object has no attribute 'fullname'",
     "output_type": "error",
     "traceback": [
      "\u001b[1;31m---------------------------------------------------------------------------\u001b[0m",
      "\u001b[1;31mAttributeError\u001b[0m                            Traceback (most recent call last)",
      "\u001b[1;32m~\\AppData\\Local\\Temp\\ipykernel_12272\\2607054453.py\u001b[0m in \u001b[0;36m<module>\u001b[1;34m\u001b[0m\n\u001b[1;32m----> 1\u001b[1;33m \u001b[0memp1\u001b[0m\u001b[1;33m.\u001b[0m\u001b[0mfullname\u001b[0m\u001b[1;33m(\u001b[0m\u001b[1;33m)\u001b[0m\u001b[1;33m\u001b[0m\u001b[1;33m\u001b[0m\u001b[0m\n\u001b[0m",
      "\u001b[1;31mAttributeError\u001b[0m: 'employee' object has no attribute 'fullname'"
     ]
    }
   ],
   "source": [
    "emp1.fullname()"
   ]
  },
  {
   "cell_type": "markdown",
   "id": "5d60f7c0",
   "metadata": {},
   "source": [
    "### Creating the Dog Class\n",
    "Each instance created from the Dog class will store a name and an age, and we’ll give each dog the ability to sit() and roll_over():"
   ]
  },
  {
   "cell_type": "code",
   "execution_count": 16,
   "id": "6e84155c",
   "metadata": {},
   "outputs": [
    {
     "name": "stdout",
     "output_type": "stream",
     "text": [
      "this is Felix\n",
      "he is 5\n",
      "Felix is now sitting\n",
      "Felix is rolled over\n",
      "this is Indigo\n",
      "he is 6\n",
      "Indigo has shaken a random stranger\n",
      "Felix has laid down for a nap\n"
     ]
    }
   ],
   "source": [
    "class dog():\n",
    "    def __init__(self,name,age):\n",
    "        self.name=name.title()\n",
    "        self.age=age\n",
    "    def sit(self):\n",
    "        print(f\"{self.name} is now sitting\")\n",
    "    def rollover(self):\n",
    "        print(f\"{self.name} is rolled over\")\n",
    "    def shake(self):\n",
    "        print(f\"{self.name} has shaken a random stranger\")\n",
    "    def down(self):\n",
    "        print(f\"{self.name} has laid down for a nap\")\n",
    "dog1=dog(\"felix\",5)\n",
    "print(f\"this is {dog1.name}\")\n",
    "print(f\"he is {dog1.age}\")\n",
    "dog1.sit()\n",
    "dog1.rollover()\n",
    "dog2=dog(\"indigo\",6)\n",
    "print(f\"this is {dog2.name}\")\n",
    "print(f\"he is {dog2.age}\")\n",
    "dog2.shake()\n",
    "dog1.down()"
   ]
  },
  {
   "cell_type": "code",
   "execution_count": null,
   "id": "3c70e9c0",
   "metadata": {},
   "outputs": [],
   "source": []
  },
  {
   "cell_type": "markdown",
   "id": "8bbcc5c0",
   "metadata": {},
   "source": [
    "#### Note:\n",
    "- By convention, capitalized names refer to classes in Python. \n",
    "- The parentheses in the class definition are empty because we’re creating this class from scratch.\n",
    "- All classes have a function called __init__(), which is always executed when the class is being initiated.\n",
    "- Use the __init__() function to assign values to object properties, or other operations that are necessary to do when the object is being created\n",
    "- Any variable prefixed with `self` is available to every method in the class, and we’ll also be able to access these variables through any instance created from the class.\n",
    "- The Dog class has two other methods defined: sit() and roll_over().Because these methods don’t need additional information like a name or age, we just define them to have one parameter, self."
   ]
  },
  {
   "cell_type": "markdown",
   "id": "402f0696",
   "metadata": {},
   "source": [
    "### Restaurant: Make a class called Restaurant. The __init__() method for Restaurant should store two attributes: a restaurant_name and a cuisine_type.\n",
    "- Make a method called `describe_restaurant()` that prints name of teh restrurent and the cuisine type\n",
    "- and a method called open_restaurant() that prints a message indicating that the restaurant is open.\n",
    "- Make an instance called restaurant from your class. Print the two attributes individually, and then call both methods.\n"
   ]
  },
  {
   "cell_type": "code",
   "execution_count": 6,
   "id": "c4316b2d",
   "metadata": {},
   "outputs": [],
   "source": [
    "class Restauraunt():\n",
    "    def __init__(self,name,cuisine_type):\n",
    "        self.name=name.title()\n",
    "        self.cuisine_type=cuisine_type\n",
    "        \n",
    "    def describe_restaurant(self):\n",
    "        print(f\"{self.name} serves {self.cuisine_type}.\")\n",
    "        \n",
    "    def open_(self):\n",
    "        print(f\"{self.name} is open.\")"
   ]
  },
  {
   "cell_type": "code",
   "execution_count": 7,
   "id": "66212d02",
   "metadata": {},
   "outputs": [
    {
     "name": "stdout",
     "output_type": "stream",
     "text": [
      "name: Cappy'S; cusine: ???\n",
      "Cappy'S serves ???.\n",
      "Cane'S serves chicken.\n"
     ]
    }
   ],
   "source": [
    "r1=Restauraunt(\"cappy's\",\"???\")\n",
    "r2=Restauraunt(\"cane's\",\"chicken\")\n",
    "print(f\"name: {r1.name}; cusine: {r1.cuisine_type}\")\n",
    "r1.describe_restaurant()\n",
    "r2.describe_restaurant()"
   ]
  },
  {
   "cell_type": "code",
   "execution_count": null,
   "id": "f9be3f46",
   "metadata": {},
   "outputs": [],
   "source": []
  },
  {
   "cell_type": "markdown",
   "id": "8b4a4fca",
   "metadata": {},
   "source": [
    "### - Create three different instances from the class, and call describe_restaurant() for each instance."
   ]
  },
  {
   "cell_type": "code",
   "execution_count": 8,
   "id": "b3845fe0",
   "metadata": {},
   "outputs": [
    {
     "name": "stdout",
     "output_type": "stream",
     "text": [
      "Mackys serves slop.\n",
      "Taco Hippo serves tacos.\n",
      "Chick-Fil-A serves chicken.\n"
     ]
    }
   ],
   "source": [
    "r3=Restauraunt(\"mackys\",\"slop\")\n",
    "r4=Restauraunt(\"taco hippo\",\"tacos\")\n",
    "r5=Restauraunt(\"chick-fil-a\",\"chicken\")\n",
    "r3.describe_restaurant()\n",
    "r4.describe_restaurant()\n",
    "r5.describe_restaurant()"
   ]
  },
  {
   "cell_type": "code",
   "execution_count": null,
   "id": "6b24e6f1",
   "metadata": {},
   "outputs": [],
   "source": []
  },
  {
   "cell_type": "markdown",
   "id": "8f4032c6",
   "metadata": {},
   "source": [
    "### Users: Make a class called User. Create attributes called first_name and last_name, username, location \n",
    "- Make a method called describe_user() that prints a summary of the user’s information. \n",
    "- Make another method called greet_user() that prints a personalized greeting to the user.\n",
    "- Create several instances representing different users, and call both methods for each user."
   ]
  },
  {
   "cell_type": "code",
   "execution_count": 23,
   "id": "dda94ce2",
   "metadata": {},
   "outputs": [],
   "source": [
    "class User():\n",
    "    def __init__(self,first,last,area):\n",
    "        self.first=first.title\n",
    "        self.last=last.title\n",
    "        self.area=area.title\n",
    "        self.username=last+first\n",
    "    def describe_user(self):\n",
    "        print(f\"Information- {self.username}\")\n",
    "        print(f\"Name: {self.last}, {self.first}\")\n",
    "        print(f\"Location: {self.area}\")\n",
    "    def greet_user(self):\n",
    "        print(f\"Welcome {self.first} in {self.area}.\")\n"
   ]
  },
  {
   "cell_type": "code",
   "execution_count": 24,
   "id": "73a22d0b",
   "metadata": {},
   "outputs": [],
   "source": [
    "u1=User('kate','a','carolina')\n",
    "u2=User('aj','r','california')\n",
    "u3=User('christian','b','carolina')"
   ]
  },
  {
   "cell_type": "code",
   "execution_count": 26,
   "id": "8864d617",
   "metadata": {},
   "outputs": [
    {
     "name": "stdout",
     "output_type": "stream",
     "text": [
      "Welcome <built-in method title of str object at 0x00000262EF150EB0> in <built-in method title of str object at 0x00000262EF15AC30>.\n"
     ]
    },
    {
     "data": {
      "text/plain": [
       "<bound method User.describe_user of <__main__.User object at 0x00000262EF11CA90>>"
      ]
     },
     "execution_count": 26,
     "metadata": {},
     "output_type": "execute_result"
    }
   ],
   "source": [
    "u1.greet_user()\n",
    "u2.greet_user\n",
    "u3.greet_user\n",
    "u1.describe_user\n"
   ]
  },
  {
   "cell_type": "markdown",
   "id": "8b5bfff2",
   "metadata": {},
   "source": [
    "## Setting a Default Value for an Attribute"
   ]
  },
  {
   "cell_type": "code",
   "execution_count": 20,
   "id": "bbdc7a10",
   "metadata": {},
   "outputs": [],
   "source": [
    "class car():\n",
    "    def __init__(self,make,model,year):\n",
    "        self.make=make\n",
    "        self.model=model\n",
    "        self.year=year\n",
    "        self.odometer=0\n",
    "    def info(self):\n",
    "        name=str(self.year)+\" \"+self.make+\" \"+self.model\n",
    "        return name.title()\n",
    "    def odometer_read(self):\n",
    "        print(f\"odometer read: {self.odometer()}\")"
   ]
  },
  {
   "cell_type": "code",
   "execution_count": 21,
   "id": "35859896",
   "metadata": {},
   "outputs": [
    {
     "data": {
      "text/plain": [
       "'2013 Honda Crv'"
      ]
     },
     "execution_count": 21,
     "metadata": {},
     "output_type": "execute_result"
    }
   ],
   "source": [
    "c1=car('honda', 'crv', 2013)\n",
    "c2=car('ford','truck',2000)\n",
    "c1.info()"
   ]
  },
  {
   "cell_type": "code",
   "execution_count": 22,
   "id": "9ea6316b",
   "metadata": {},
   "outputs": [
    {
     "ename": "TypeError",
     "evalue": "'int' object is not callable",
     "output_type": "error",
     "traceback": [
      "\u001b[1;31m---------------------------------------------------------------------------\u001b[0m",
      "\u001b[1;31mTypeError\u001b[0m                                 Traceback (most recent call last)",
      "\u001b[1;32m~\\AppData\\Local\\Temp\\ipykernel_18192\\233109673.py\u001b[0m in \u001b[0;36m<module>\u001b[1;34m\u001b[0m\n\u001b[1;32m----> 1\u001b[1;33m \u001b[0mc1\u001b[0m\u001b[1;33m.\u001b[0m\u001b[0modometer_read\u001b[0m\u001b[1;33m(\u001b[0m\u001b[1;33m)\u001b[0m\u001b[1;33m\u001b[0m\u001b[1;33m\u001b[0m\u001b[0m\n\u001b[0m",
      "\u001b[1;32m~\\AppData\\Local\\Temp\\ipykernel_18192\\2993802899.py\u001b[0m in \u001b[0;36modometer_read\u001b[1;34m(self)\u001b[0m\n\u001b[0;32m      9\u001b[0m         \u001b[1;32mreturn\u001b[0m \u001b[0mname\u001b[0m\u001b[1;33m.\u001b[0m\u001b[0mtitle\u001b[0m\u001b[1;33m(\u001b[0m\u001b[1;33m)\u001b[0m\u001b[1;33m\u001b[0m\u001b[1;33m\u001b[0m\u001b[0m\n\u001b[0;32m     10\u001b[0m     \u001b[1;32mdef\u001b[0m \u001b[0modometer_read\u001b[0m\u001b[1;33m(\u001b[0m\u001b[0mself\u001b[0m\u001b[1;33m)\u001b[0m\u001b[1;33m:\u001b[0m\u001b[1;33m\u001b[0m\u001b[1;33m\u001b[0m\u001b[0m\n\u001b[1;32m---> 11\u001b[1;33m         \u001b[0mprint\u001b[0m\u001b[1;33m(\u001b[0m\u001b[1;34mf\"odometer read: {self.odometer()}\"\u001b[0m\u001b[1;33m)\u001b[0m\u001b[1;33m\u001b[0m\u001b[1;33m\u001b[0m\u001b[0m\n\u001b[0m",
      "\u001b[1;31mTypeError\u001b[0m: 'int' object is not callable"
     ]
    }
   ],
   "source": [
    "c1.odometer_read()\n"
   ]
  },
  {
   "cell_type": "markdown",
   "id": "3f840f3e",
   "metadata": {},
   "source": [
    "#### Modifying an Attribute’s Value Directly"
   ]
  },
  {
   "cell_type": "code",
   "execution_count": 24,
   "id": "6f8fa540",
   "metadata": {},
   "outputs": [
    {
     "ename": "TypeError",
     "evalue": "'int' object is not callable",
     "output_type": "error",
     "traceback": [
      "\u001b[1;31m---------------------------------------------------------------------------\u001b[0m",
      "\u001b[1;31mTypeError\u001b[0m                                 Traceback (most recent call last)",
      "\u001b[1;32m~\\AppData\\Local\\Temp\\ipykernel_18192\\261161760.py\u001b[0m in \u001b[0;36m<module>\u001b[1;34m\u001b[0m\n\u001b[0;32m      1\u001b[0m \u001b[0mc1\u001b[0m\u001b[1;33m.\u001b[0m\u001b[0modometer\u001b[0m\u001b[1;33m=\u001b[0m\u001b[1;36m3\u001b[0m\u001b[1;33m\u001b[0m\u001b[1;33m\u001b[0m\u001b[0m\n\u001b[1;32m----> 2\u001b[1;33m \u001b[0mc1\u001b[0m\u001b[1;33m.\u001b[0m\u001b[0modometer_read\u001b[0m\u001b[1;33m(\u001b[0m\u001b[1;33m)\u001b[0m\u001b[1;33m\u001b[0m\u001b[1;33m\u001b[0m\u001b[0m\n\u001b[0m",
      "\u001b[1;32m~\\AppData\\Local\\Temp\\ipykernel_18192\\2993802899.py\u001b[0m in \u001b[0;36modometer_read\u001b[1;34m(self)\u001b[0m\n\u001b[0;32m      9\u001b[0m         \u001b[1;32mreturn\u001b[0m \u001b[0mname\u001b[0m\u001b[1;33m.\u001b[0m\u001b[0mtitle\u001b[0m\u001b[1;33m(\u001b[0m\u001b[1;33m)\u001b[0m\u001b[1;33m\u001b[0m\u001b[1;33m\u001b[0m\u001b[0m\n\u001b[0;32m     10\u001b[0m     \u001b[1;32mdef\u001b[0m \u001b[0modometer_read\u001b[0m\u001b[1;33m(\u001b[0m\u001b[0mself\u001b[0m\u001b[1;33m)\u001b[0m\u001b[1;33m:\u001b[0m\u001b[1;33m\u001b[0m\u001b[1;33m\u001b[0m\u001b[0m\n\u001b[1;32m---> 11\u001b[1;33m         \u001b[0mprint\u001b[0m\u001b[1;33m(\u001b[0m\u001b[1;34mf\"odometer read: {self.odometer()}\"\u001b[0m\u001b[1;33m)\u001b[0m\u001b[1;33m\u001b[0m\u001b[1;33m\u001b[0m\u001b[0m\n\u001b[0m",
      "\u001b[1;31mTypeError\u001b[0m: 'int' object is not callable"
     ]
    }
   ],
   "source": [
    "c1.odometer=3\n",
    "c1.odometer_read()"
   ]
  },
  {
   "cell_type": "code",
   "execution_count": null,
   "id": "2f382418",
   "metadata": {},
   "outputs": [],
   "source": []
  },
  {
   "cell_type": "markdown",
   "id": "27f8f244",
   "metadata": {},
   "source": [
    "### Modifying an Attribute’s Value Through a Method"
   ]
  },
  {
   "cell_type": "code",
   "execution_count": null,
   "id": "9b3ae956",
   "metadata": {},
   "outputs": [],
   "source": []
  },
  {
   "cell_type": "code",
   "execution_count": null,
   "id": "3c3c57c2",
   "metadata": {},
   "outputs": [],
   "source": []
  },
  {
   "cell_type": "markdown",
   "id": "fd560131",
   "metadata": {},
   "source": [
    "### Incrementing an Attribute’s Value Through a Method"
   ]
  },
  {
   "cell_type": "code",
   "execution_count": null,
   "id": "8d76b884",
   "metadata": {},
   "outputs": [],
   "source": []
  },
  {
   "cell_type": "code",
   "execution_count": null,
   "id": "1500c7e7",
   "metadata": {},
   "outputs": [],
   "source": []
  },
  {
   "cell_type": "markdown",
   "id": "b96f0d18",
   "metadata": {},
   "source": [
    "# Inheritance\n",
    "- You don’t always have to start from scratch when writing a class. If the class you’re writing is a specialized version of another class you wrote, you can use inheritance. \n",
    "- When one class inherits from another, it automatically takes on all the attributes and methods of the first class. The original class is called the `parent class`, and the new class is the `child class`. \n",
    "- The child class inherits every attribute and method from its parent class but is also free to define new attributes and methods of its own."
   ]
  },
  {
   "cell_type": "code",
   "execution_count": null,
   "id": "5b7c3efd",
   "metadata": {},
   "outputs": [],
   "source": []
  },
  {
   "cell_type": "code",
   "execution_count": null,
   "id": "07cbb387",
   "metadata": {},
   "outputs": [],
   "source": []
  },
  {
   "cell_type": "code",
   "execution_count": null,
   "id": "34de9649",
   "metadata": {},
   "outputs": [],
   "source": []
  },
  {
   "cell_type": "markdown",
   "id": "5b594c20",
   "metadata": {},
   "source": [
    "### Practice: Create a class named Person, with firstname and lastname properties, and a printname method:"
   ]
  },
  {
   "cell_type": "code",
   "execution_count": 17,
   "id": "681edaaf",
   "metadata": {},
   "outputs": [],
   "source": [
    "class person():\n",
    "    def __init__(self,first,last,year):\n",
    "        self.first=first\n",
    "        self.last=last\n",
    "        self.year=year\n",
    "    def fullname(self):\n",
    "        print(f\"you are {self.first, self.last}\")"
   ]
  },
  {
   "cell_type": "code",
   "execution_count": 7,
   "id": "9d3a0e56",
   "metadata": {},
   "outputs": [],
   "source": [
    "p=person('kate','a',2026)"
   ]
  },
  {
   "cell_type": "code",
   "execution_count": 3,
   "id": "b75d7a0a",
   "metadata": {},
   "outputs": [
    {
     "name": "stdout",
     "output_type": "stream",
     "text": [
      "you are ('kate', 'a')\n"
     ]
    }
   ],
   "source": [
    "p.fullname()"
   ]
  },
  {
   "cell_type": "markdown",
   "id": "a8023470",
   "metadata": {},
   "source": [
    "### Create child classes called Student using Inheritance contains the first and last name and the graduation year \n",
    "- Add a method called `welcome` that prints the student graduation year\n",
    "- Test the student method for two students"
   ]
  },
  {
   "cell_type": "code",
   "execution_count": 18,
   "id": "5816f6a4",
   "metadata": {},
   "outputs": [],
   "source": [
    "class student(person):\n",
    "    def __init__(self,first,last,year):\n",
    "        super().__init__(first,last,year)\n",
    "    def welcome(self):\n",
    "        print(f\"welcome class of {self.year}\")"
   ]
  },
  {
   "cell_type": "code",
   "execution_count": 25,
   "id": "8a1571d5",
   "metadata": {},
   "outputs": [],
   "source": [
    "p1=student('kate','a',2026)\n",
    "p2=student('aj','r',2025)"
   ]
  },
  {
   "cell_type": "code",
   "execution_count": 26,
   "id": "a91afbb4",
   "metadata": {},
   "outputs": [
    {
     "name": "stdout",
     "output_type": "stream",
     "text": [
      "welcome class of 2026\n",
      "<bound method person.fullname of <__main__.student object at 0x0000014249C8C430>> None\n"
     ]
    }
   ],
   "source": [
    "print(p1.fullname,\n",
    "      p1.welcome(),\n",
    "      )"
   ]
  },
  {
   "cell_type": "markdown",
   "id": "3bdcfd1c",
   "metadata": {},
   "source": [
    "## Create a simple calculator using classes"
   ]
  },
  {
   "cell_type": "code",
   "execution_count": 34,
   "id": "6ab4b4b1",
   "metadata": {},
   "outputs": [
    {
     "name": "stdout",
     "output_type": "stream",
     "text": [
      "enter a- 2\n",
      "enter b- 3\n",
      "\n",
      "0. exit\n",
      "1. addition\n",
      "2. subtract\n",
      "3. multiply\n",
      "4. divide\n",
      "enter choice: 2\n",
      "= <function calc.subtract at 0x0000016770AB0160>\n",
      "\n",
      "0. exit\n",
      "1. addition\n",
      "2. subtract\n",
      "3. multiply\n",
      "4. divide\n",
      "enter choice: 0\n"
     ]
    }
   ],
   "source": [
    "class calc():\n",
    "    def __init__(self,a,b):\n",
    "        self.a=a\n",
    "        self.b=b    \n",
    "    def addi():\n",
    "        return self.a+self.b\n",
    "    def subtract():\n",
    "        return self.a-self.b\n",
    "    def mult():\n",
    "        return self.a*self.b\n",
    "    def divi():\n",
    "        return self.a/self.b\n",
    "a=int(input(\"enter a- \"))\n",
    "b=int(input(\"enter b- \"))\n",
    "c1=calc(a,b)\n",
    "\n",
    "choice=1\n",
    "while choice!=0:\n",
    "    print()\n",
    "    print(\"0. exit\")\n",
    "    print(\"1. addition\")\n",
    "    print(\"2. subtract\")\n",
    "    print(\"3. multiply\")\n",
    "    print(\"4. divide\")\n",
    "    choice=int(input(\"enter choice: \"))\n",
    "    \n",
    "    if choice==1:\n",
    "        print(f\"result: {calc.addi()}\")\n",
    "    elif choice==2:\n",
    "        print(f\"= {calc.subtract}\")\n",
    "    "
   ]
  },
  {
   "cell_type": "markdown",
   "id": "76e41872",
   "metadata": {},
   "source": [
    "### "
   ]
  },
  {
   "cell_type": "code",
   "execution_count": null,
   "id": "39c3dee9",
   "metadata": {},
   "outputs": [],
   "source": []
  },
  {
   "cell_type": "markdown",
   "id": "0ec161b5",
   "metadata": {},
   "source": [
    "## ATM machine "
   ]
  },
  {
   "cell_type": "code",
   "execution_count": null,
   "id": "267c3e25",
   "metadata": {},
   "outputs": [],
   "source": []
  },
  {
   "cell_type": "code",
   "execution_count": null,
   "id": "a6e40459",
   "metadata": {},
   "outputs": [],
   "source": []
  },
  {
   "cell_type": "code",
   "execution_count": null,
   "id": "5349965d",
   "metadata": {},
   "outputs": [],
   "source": []
  }
 ],
 "metadata": {
  "kernelspec": {
   "display_name": "Python 3 (ipykernel)",
   "language": "python",
   "name": "python3"
  },
  "language_info": {
   "codemirror_mode": {
    "name": "ipython",
    "version": 3
   },
   "file_extension": ".py",
   "mimetype": "text/x-python",
   "name": "python",
   "nbconvert_exporter": "python",
   "pygments_lexer": "ipython3",
   "version": "3.9.13"
  }
 },
 "nbformat": 4,
 "nbformat_minor": 5
}
