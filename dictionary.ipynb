{
 "cells": [
  {
   "cell_type": "code",
   "execution_count": null,
   "id": "6541b261",
   "metadata": {},
   "outputs": [],
   "source": [
    "word_bank={'a','dog',\n",
    "      'b','cat',\n",
    "      'c','mouse',\n",
    "      'd','horse',\n",
    "      'e','cow',\n",
    "      'f','bunny'\n",
    "      'g','golf'\n",
    "      'h','heap'\n",
    "      'i','tennis'\n",
    "      'j','ball'\n",
    "      'k','play'\n",
    "      'l','run'\n",
    "      'm','hello'\n",
    "      'n','meat'\n",
    "      'o','tree'\n",
    "      'p','plant'\n",
    "      'q','bike'\n",
    "      'r','wild'\n",
    "      's','prize'\n",
    "      't','new'\n",
    "      'u','nope'\n",
    "      'v','red'\n",
    "      'w','blue'\n",
    "      'z','green'\n",
    "}"
   ]
  }
 ],
 "metadata": {
  "kernelspec": {
   "display_name": "Python 3 (ipykernel)",
   "language": "python",
   "name": "python3"
  },
  "language_info": {
   "codemirror_mode": {
    "name": "ipython",
    "version": 3
   },
   "file_extension": ".py",
   "mimetype": "text/x-python",
   "name": "python",
   "nbconvert_exporter": "python",
   "pygments_lexer": "ipython3",
   "version": "3.9.13"
  }
 },
 "nbformat": 4,
 "nbformat_minor": 5
}
