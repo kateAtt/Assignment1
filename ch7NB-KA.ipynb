{
 "cells": [
  {
   "cell_type": "markdown",
   "metadata": {},
   "source": [
    "# While Loop\n",
    "* The for loop takes a collection of items and executes a block of code once for each item in the collection. \n",
    "* In contrast, the while loop runs as long as, or while, a certain condition is true."
   ]
  },
  {
   "cell_type": "markdown",
   "metadata": {},
   "source": [
    "## The while Loop in Action\n",
    "You can use a while loop to count up through a series of numbers. For\n",
    "example, the following while loop counts from 1 to 5:\n"
   ]
  },
  {
   "cell_type": "code",
   "execution_count": 1,
   "metadata": {},
   "outputs": [
    {
     "name": "stdout",
     "output_type": "stream",
     "text": [
      "1\n",
      "2\n",
      "3\n",
      "4\n",
      "5\n"
     ]
    }
   ],
   "source": [
    "# for loop\n",
    "for i in range(1,6):\n",
    "    print(i)"
   ]
  },
  {
   "cell_type": "code",
   "execution_count": 2,
   "metadata": {},
   "outputs": [
    {
     "name": "stdout",
     "output_type": "stream",
     "text": [
      "1\n",
      "2\n",
      "3\n",
      "4\n",
      "5\n"
     ]
    }
   ],
   "source": [
    "# while loop\n",
    "i=1 #initialization\n",
    "while i<6:# condition check, could also- i<=5\n",
    "    print(i)\n",
    "    i+=1 # increment = 1"
   ]
  },
  {
   "cell_type": "markdown",
   "metadata": {},
   "source": [
    "## Letting the User Choose When to Quit"
   ]
  },
  {
   "cell_type": "code",
   "execution_count": 6,
   "metadata": {},
   "outputs": [],
   "source": [
    "prompt=\"\\nTell me something and I will repeat it. Enter \\'quit'\\ to end the program: \""
   ]
  },
  {
   "cell_type": "code",
   "execution_count": 7,
   "metadata": {},
   "outputs": [
    {
     "name": "stdout",
     "output_type": "stream",
     "text": [
      "\n",
      "Tell me something and I will repeat it. Enter 'quit'\\ to end the program: hello\n",
      "hello\n",
      "\n",
      "Tell me something and I will repeat it. Enter 'quit'\\ to end the program: how are you\n",
      "how are you\n",
      "\n",
      "Tell me something and I will repeat it. Enter 'quit'\\ to end the program: repeat\n",
      "repeat\n",
      "\n",
      "Tell me something and I will repeat it. Enter 'quit'\\ to end the program: 2\n",
      "2\n",
      "\n",
      "Tell me something and I will repeat it. Enter 'quit'\\ to end the program: quit\n",
      "quit\n"
     ]
    }
   ],
   "source": [
    "message=\"\"\n",
    "while message!='quit':\n",
    "    message=input(prompt)\n",
    "    print(message)"
   ]
  },
  {
   "cell_type": "markdown",
   "metadata": {},
   "source": [
    "## A Flag"
   ]
  },
  {
   "cell_type": "markdown",
   "metadata": {
    "slideshow": {
     "slide_type": "subslide"
    }
   },
   "source": [
    "### For a program that should run only as long as many conditions are true, you can define one variable that determines whether or not the entire program is active. This variable, called a `flag`, acts as a signal to the program."
   ]
  },
  {
   "cell_type": "code",
   "execution_count": 8,
   "metadata": {},
   "outputs": [],
   "source": [
    "prompt=\"\\nTell me something and I will repeat it. Enter \\'quit'\\ to end the program: \""
   ]
  },
  {
   "cell_type": "code",
   "execution_count": 9,
   "metadata": {},
   "outputs": [
    {
     "name": "stdout",
     "output_type": "stream",
     "text": [
      "\n",
      "Tell me something and I will repeat it. Enter 'quit'\\ to end the program: test\n",
      "test\n",
      "\n",
      "Tell me something and I will repeat it. Enter 'quit'\\ to end the program: 1\n",
      "1\n",
      "\n",
      "Tell me something and I will repeat it. Enter 'quit'\\ to end the program: 3\n",
      "3\n",
      "\n",
      "Tell me something and I will repeat it. Enter 'quit'\\ to end the program: quit\n"
     ]
    }
   ],
   "source": [
    "# flag has only true or false\n",
    "message=\"\"\n",
    "active=True\n",
    "while active:\n",
    "    message=input(prompt)\n",
    "    if message=='quit':\n",
    "        active=False # exit flag\n",
    "    else:\n",
    "        print(message)"
   ]
  },
  {
   "cell_type": "markdown",
   "metadata": {},
   "source": [
    "## Using break to Exit a Loop\n",
    "To exit a while loop immediately without running any remaining code in the\n",
    "loop, regardless of the results of any conditional test, use the break statement."
   ]
  },
  {
   "cell_type": "code",
   "execution_count": 10,
   "metadata": {},
   "outputs": [],
   "source": [
    "prompt=\"\\nEnter name of city you want to visit. Enter \\'quit'\\ to exit:    \""
   ]
  },
  {
   "cell_type": "code",
   "execution_count": 11,
   "metadata": {},
   "outputs": [
    {
     "name": "stdout",
     "output_type": "stream",
     "text": [
      "\n",
      "Enter name of city you want to visit. Enter 'quit'\\ to exit:    sonoma\n",
      "You want to visit: Sonoma ?\n",
      "\n",
      "Enter name of city you want to visit. Enter 'quit'\\ to exit:    quit\n"
     ]
    }
   ],
   "source": [
    "city=\"\"\n",
    "active=True\n",
    "while active:\n",
    "    city=input(prompt)\n",
    "    if city=='quit':\n",
    "        break\n",
    "    else:\n",
    "        print(\"You want to visit: \"+city.title()+\" ?\")"
   ]
  },
  {
   "cell_type": "markdown",
   "metadata": {},
   "source": [
    "### Guess the number"
   ]
  },
  {
   "cell_type": "code",
   "execution_count": 14,
   "metadata": {},
   "outputs": [
    {
     "name": "stdout",
     "output_type": "stream",
     "text": [
      "\n",
      "Guess # 1-10: 2\n",
      "YOU ARE THE WEAKEST LINK. GOODBYE.\n",
      "\n",
      "Guess # 1-10: 9\n",
      "YOU ARE THE WEAKEST LINK. GOODBYE.\n",
      "\n",
      "Guess # 1-10: 7\n",
      "THAT IS CORRECT !\n"
     ]
    }
   ],
   "source": [
    "prompt=\"\\nGuess # 1-10: \"\n",
    "number=0\n",
    "active=True\n",
    "while active:\n",
    "    number=int(input(prompt))\n",
    "    if number==7:\n",
    "        print(\"THAT IS CORRECT !\")\n",
    "        break\n",
    "    else:\n",
    "        print(\"YOU ARE THE WEAKEST LINK. GOODBYE.\")"
   ]
  },
  {
   "cell_type": "markdown",
   "metadata": {},
   "source": [
    "### Guess the number with proper direction"
   ]
  },
  {
   "cell_type": "code",
   "execution_count": 13,
   "metadata": {},
   "outputs": [
    {
     "name": "stdout",
     "output_type": "stream",
     "text": [
      "\n",
      "Guess # 1-20: 3\n",
      "GREATER\n",
      "\n",
      "Guess # 1-20: 4\n",
      "GREATER\n",
      "\n",
      "Guess # 1-20: 8\n",
      "LESSER\n",
      "\n",
      "Guess # 1-20: 7\n",
      "THAT IS CORRECT !\n"
     ]
    }
   ],
   "source": [
    "prompt=\"\\nGuess # 1-20: \"\n",
    "num2=0\n",
    "active=True\n",
    "while active:\n",
    "    num2=int(input(prompt))\n",
    "    if num2==7:\n",
    "        print(\"THAT IS CORRECT !\")\n",
    "        break\n",
    "    elif num2<7:\n",
    "        print(\"GREATER\")\n",
    "    else:\n",
    "        print(\"LESSER\")"
   ]
  },
  {
   "cell_type": "markdown",
   "metadata": {},
   "source": [
    "### Break with for loop"
   ]
  },
  {
   "cell_type": "code",
   "execution_count": 18,
   "metadata": {},
   "outputs": [
    {
     "name": "stdout",
     "output_type": "stream",
     "text": [
      "1 2 3 4 5 6 7 8 9 10 11 12 13 14 15 16 17 18 19 20 21 22 23 24 25 26 27 28 29 30 31 32 33 34 35 36 37 38 39 "
     ]
    }
   ],
   "source": [
    "for number in range(1,100):\n",
    "    if number==40:\n",
    "        break\n",
    "    print(number,end=\" \")"
   ]
  },
  {
   "cell_type": "markdown",
   "metadata": {},
   "source": [
    "### Using continue in a Loop\n",
    "- Rather than breaking out of a loop entirely without executing the rest of its code, \n",
    "- you can use the continue statement to return to the beginning of the loop based on the result of a conditional test. \n",
    "- For example, consider a loop that counts from 1 to 10 but prints only the odd numbers in that range:"
   ]
  },
  {
   "cell_type": "code",
   "execution_count": 23,
   "metadata": {},
   "outputs": [
    {
     "name": "stdout",
     "output_type": "stream",
     "text": [
      "1 3 5 7 9 11 "
     ]
    }
   ],
   "source": [
    "num3=0\n",
    "while num3<=10:\n",
    "    num3+=1\n",
    "    if num3%2==0:\n",
    "        continue\n",
    "    print(num3,end=\" \")"
   ]
  },
  {
   "cell_type": "markdown",
   "metadata": {},
   "source": [
    "### consider a loop (while/for) that counts from 10 to 20 but prints only the even numbers in that range, use continue statement:"
   ]
  },
  {
   "cell_type": "code",
   "execution_count": 25,
   "metadata": {},
   "outputs": [
    {
     "name": "stdout",
     "output_type": "stream",
     "text": [
      "10\n",
      "12\n",
      "14\n",
      "16\n",
      "18\n"
     ]
    }
   ],
   "source": [
    "for n in range(10,20):\n",
    "    if n%2!=0:# if number is odd then it will continue over it \n",
    "        continue\n",
    "    else:\n",
    "        print(n)"
   ]
  },
  {
   "cell_type": "markdown",
   "metadata": {},
   "source": [
    "### Avoiding Infinite Loops"
   ]
  },
  {
   "cell_type": "code",
   "execution_count": null,
   "metadata": {},
   "outputs": [],
   "source": []
  },
  {
   "cell_type": "code",
   "execution_count": null,
   "metadata": {},
   "outputs": [],
   "source": []
  },
  {
   "cell_type": "markdown",
   "metadata": {},
   "source": [
    "### Movie Tickets: A movie theater charges different ticket prices depending on a person’s age. \n",
    "- If a person is under the age of 3, the ticket is free; if they are between 3 and 12, the ticket is 10 dollar\n",
    "- if they are over age 12, the ticket is 15 dollar. \n",
    "Write a while loop in which you ask users their age, and then tell them the cost of their movie ticket."
   ]
  },
  {
   "cell_type": "code",
   "execution_count": 1,
   "metadata": {},
   "outputs": [
    {
     "name": "stdout",
     "output_type": "stream",
     "text": [
      "age: 2\n",
      "free admission\n",
      "age: 14\n",
      "$ 15\n",
      "age: 12\n",
      "$ 10 \n",
      "age: -1\n"
     ]
    }
   ],
   "source": [
    "prompt=\"-1 to quit. Enter your age. \"\n",
    "while True:\n",
    "    age=int(input(\"age: \"))\n",
    "    if age==-1:\n",
    "        break\n",
    "    elif age<3:\n",
    "        print(\"free admission\")\n",
    "    elif age<13:\n",
    "        print(\"$ 10 \")\n",
    "    else:\n",
    "        print(\"$ 15\")"
   ]
  },
  {
   "cell_type": "markdown",
   "metadata": {},
   "source": [
    "## Using a while Loop with Lists and Dictionaries"
   ]
  },
  {
   "cell_type": "markdown",
   "metadata": {},
   "source": [
    "### Moving Items from One List to Another"
   ]
  },
  {
   "cell_type": "code",
   "execution_count": 4,
   "metadata": {},
   "outputs": [
    {
     "name": "stdout",
     "output_type": "stream",
     "text": [
      "verifying: Mark\n",
      "verifying: Aj\n",
      "verifying: Kate\n"
     ]
    },
    {
     "ename": "AttributeError",
     "evalue": "'list' object has no attribute 'title'",
     "output_type": "error",
     "traceback": [
      "\u001b[1;31m---------------------------------------------------------------------------\u001b[0m",
      "\u001b[1;31mAttributeError\u001b[0m                            Traceback (most recent call last)",
      "\u001b[1;32m~\\AppData\\Local\\Temp\\ipykernel_48020\\378209057.py\u001b[0m in \u001b[0;36m<module>\u001b[1;34m\u001b[0m\n\u001b[0;32m      6\u001b[0m     \u001b[0mprint\u001b[0m\u001b[1;33m(\u001b[0m\u001b[1;34m\"verifying: \"\u001b[0m \u001b[1;33m+\u001b[0m\u001b[0mcurrent\u001b[0m\u001b[1;33m.\u001b[0m\u001b[0mtitle\u001b[0m\u001b[1;33m(\u001b[0m\u001b[1;33m)\u001b[0m\u001b[1;33m)\u001b[0m\u001b[1;33m\u001b[0m\u001b[1;33m\u001b[0m\u001b[0m\n\u001b[0;32m      7\u001b[0m     \u001b[0muser2\u001b[0m\u001b[1;33m.\u001b[0m\u001b[0mappend\u001b[0m\u001b[1;33m(\u001b[0m\u001b[0mcurrent\u001b[0m\u001b[1;33m)\u001b[0m\u001b[1;33m\u001b[0m\u001b[1;33m\u001b[0m\u001b[0m\n\u001b[1;32m----> 8\u001b[1;33m \u001b[0mprint\u001b[0m\u001b[1;33m(\u001b[0m\u001b[1;34m\"confirmed users: \"\u001b[0m \u001b[1;33m+\u001b[0m\u001b[0muser2\u001b[0m\u001b[1;33m.\u001b[0m\u001b[0mtitle\u001b[0m\u001b[1;33m(\u001b[0m\u001b[1;33m)\u001b[0m\u001b[1;33m)\u001b[0m\u001b[1;33m\u001b[0m\u001b[1;33m\u001b[0m\u001b[0m\n\u001b[0m",
      "\u001b[1;31mAttributeError\u001b[0m: 'list' object has no attribute 'title'"
     ]
    }
   ],
   "source": [
    "user=['kate','aj','mark']\n",
    "user2=[]\n",
    "while user:\n",
    "    current=user.pop()\n",
    "    \n",
    "    print(\"verifying: \" +current.title())\n",
    "    user2.append(current)\n",
    "print(\"confirmed users: \" +user2.title())"
   ]
  },
  {
   "cell_type": "code",
   "execution_count": null,
   "metadata": {},
   "outputs": [],
   "source": []
  },
  {
   "cell_type": "code",
   "execution_count": null,
   "metadata": {},
   "outputs": [],
   "source": []
  },
  {
   "cell_type": "markdown",
   "metadata": {},
   "source": [
    "### Removing All Instances of Specific Values from a List"
   ]
  },
  {
   "cell_type": "code",
   "execution_count": 6,
   "metadata": {},
   "outputs": [
    {
     "name": "stdout",
     "output_type": "stream",
     "text": [
      "['dog', 'cat', 'crow', 'cow', 'cow']\n"
     ]
    }
   ],
   "source": [
    "pets=['dog','cat','crow','cow','cow']\n",
    "print(pets)"
   ]
  },
  {
   "cell_type": "code",
   "execution_count": 7,
   "metadata": {},
   "outputs": [
    {
     "name": "stdout",
     "output_type": "stream",
     "text": [
      "['dog', 'cat', 'crow']\n"
     ]
    }
   ],
   "source": [
    "# remove all cows from list\n",
    "while 'cow' in pets: \n",
    "    pets.remove('cow')\n",
    "print(pets)"
   ]
  },
  {
   "cell_type": "markdown",
   "metadata": {},
   "source": [
    "### Filling a Dictionary with User Input"
   ]
  },
  {
   "cell_type": "code",
   "execution_count": 8,
   "metadata": {},
   "outputs": [
    {
     "name": "stdout",
     "output_type": "stream",
     "text": [
      "name: kate\n",
      "which country do you want to vist: italy\n",
      "add another response? yes\n",
      "name: aj\n",
      "which country do you want to vist: japan\n",
      "add another response? yes\n",
      "name: mark\n",
      "which country do you want to vist: england\n",
      "add another response? no\n",
      "\n",
      "---Poll Result---\n"
     ]
    },
    {
     "ename": "TypeError",
     "evalue": "bad operand type for unary +: 'str'",
     "output_type": "error",
     "traceback": [
      "\u001b[1;31m---------------------------------------------------------------------------\u001b[0m",
      "\u001b[1;31mTypeError\u001b[0m                                 Traceback (most recent call last)",
      "\u001b[1;32m~\\AppData\\Local\\Temp\\ipykernel_8108\\1525709133.py\u001b[0m in \u001b[0;36m<module>\u001b[1;34m\u001b[0m\n\u001b[0;32m     14\u001b[0m \u001b[1;33m\u001b[0m\u001b[0m\n\u001b[0;32m     15\u001b[0m \u001b[1;32mfor\u001b[0m \u001b[0mname\u001b[0m\u001b[1;33m,\u001b[0m\u001b[0mresponse\u001b[0m \u001b[1;32min\u001b[0m \u001b[0mresponse_dict\u001b[0m\u001b[1;33m.\u001b[0m\u001b[0mitems\u001b[0m\u001b[1;33m(\u001b[0m\u001b[1;33m)\u001b[0m\u001b[1;33m:\u001b[0m\u001b[1;33m\u001b[0m\u001b[1;33m\u001b[0m\u001b[0m\n\u001b[1;32m---> 16\u001b[1;33m     \u001b[0mprint\u001b[0m\u001b[1;33m(\u001b[0m\u001b[0mname\u001b[0m\u001b[1;33m.\u001b[0m\u001b[0mtitle\u001b[0m\u001b[1;33m(\u001b[0m\u001b[1;33m)\u001b[0m\u001b[1;33m+\u001b[0m\u001b[1;34m\"would like to visit: \"\u001b[0m\u001b[1;33m,\u001b[0m\u001b[1;33m+\u001b[0m\u001b[0mresponse\u001b[0m\u001b[1;33m.\u001b[0m\u001b[0mtitle\u001b[0m\u001b[1;33m(\u001b[0m\u001b[1;33m)\u001b[0m\u001b[1;33m)\u001b[0m\u001b[1;33m\u001b[0m\u001b[1;33m\u001b[0m\u001b[0m\n\u001b[0m",
      "\u001b[1;31mTypeError\u001b[0m: bad operand type for unary +: 'str'"
     ]
    }
   ],
   "source": [
    "response_dict={}\n",
    "#flag\n",
    "polling_active=True\n",
    "while polling_active:\n",
    "    #prompt user for name(key) and response(value)\n",
    "    name=input(\"name: \")\n",
    "    response=input(\"which country do you want to vist: \")\n",
    "    response_dict[name]=response #dict [key]=value\n",
    "    repeat=input(\"add another response? \")\n",
    "    if repeat=='no':\n",
    "        polling_active=False\n",
    "# results\n",
    "print(\"\\n---Poll Result---\")\n",
    "\n",
    "for name,response in response_dict.items():\n",
    "    print(name.title()+\"would like to visit: \",+response.title())"
   ]
  },
  {
   "cell_type": "code",
   "execution_count": null,
   "metadata": {},
   "outputs": [],
   "source": []
  },
  {
   "cell_type": "markdown",
   "metadata": {},
   "source": [
    "## Deli: Make a list called sandwich_orders and fill it with the names of various sandwiches. \n",
    "- Then make an empty list called finished_sandwiches. \n",
    "- Loop through the list of sandwich orders and print a message for each order, such as I made your tuna sandwich. \n",
    "- As each sandwich is made, move it to the list of finished sandwiches. \n",
    "- After all the sandwiches have been made, print a message listing each sandwich that was made."
   ]
  },
  {
   "cell_type": "code",
   "execution_count": 17,
   "metadata": {},
   "outputs": [],
   "source": [
    "sandwich_orders=['club','grilled cheese','wrap','reuben','grilled chicken','burger']\n",
    "finished_sandwich=[]"
   ]
  },
  {
   "cell_type": "code",
   "execution_count": 18,
   "metadata": {},
   "outputs": [
    {
     "name": "stdout",
     "output_type": "stream",
     "text": [
      "burger is loading\n",
      "grilled chicken is loading\n",
      "reuben is loading\n",
      "wrap is loading\n",
      "grilled cheese is loading\n",
      "club is loading\n",
      "I made a Burger sandwich\n",
      "I made a Grilled Chicken sandwich\n",
      "I made a Reuben sandwich\n",
      "I made a Wrap sandwich\n",
      "I made a Grilled Cheese sandwich\n",
      "I made a Club sandwich\n"
     ]
    }
   ],
   "source": [
    "while sandwich_orders:\n",
    "    current_sandwich=sandwich_orders.pop()\n",
    "    print(current_sandwich+\" is loading\")\n",
    "    finished_sandwich.append(current_sandwich)\n",
    "# print(\"final list is: \",finished_sandwich)\n",
    "\n",
    "for sandwich in finished_sandwich:\n",
    "    print(\"I made a \"+sandwich.title()+\" sandwich\")"
   ]
  },
  {
   "cell_type": "markdown",
   "metadata": {},
   "source": [
    "## Write a program to print n natural number in descending order using a while loop.\n"
   ]
  },
  {
   "cell_type": "code",
   "execution_count": 9,
   "metadata": {},
   "outputs": [
    {
     "name": "stdout",
     "output_type": "stream",
     "text": [
      "range: 12\n",
      "12 11 10 9 8 7 6 5 4 3 2 1 "
     ]
    }
   ],
   "source": [
    "n=int(input(\"range: \"))\n",
    "while(n!=0):\n",
    "    print(n, end=\" \")\n",
    "    n=n-1"
   ]
  },
  {
   "cell_type": "code",
   "execution_count": 10,
   "metadata": {},
   "outputs": [
    {
     "name": "stdout",
     "output_type": "stream",
     "text": [
      "range: 12\n",
      "12 11 10 9 8 7 6 5 4 3 2 1 0 "
     ]
    }
   ],
   "source": [
    "# add 0\n",
    "n=int(input(\"range: \"))\n",
    "while(n!=-1):\n",
    "    print(n, end=\" \")\n",
    "    n=n-1"
   ]
  },
  {
   "cell_type": "markdown",
   "metadata": {},
   "source": [
    "## Factorial of a number"
   ]
  },
  {
   "cell_type": "code",
   "execution_count": 21,
   "metadata": {},
   "outputs": [
    {
     "name": "stdout",
     "output_type": "stream",
     "text": [
      "enter n : 5\n",
      "5\n",
      "20\n",
      "60\n",
      "120\n",
      "120\n"
     ]
    }
   ],
   "source": [
    "n=int(input(\"enter n : \"))\n",
    "\n",
    "fact=1\n",
    "\n",
    "while (n):\n",
    "    fact=fact*n\n",
    "    n=n-1 # n-=1\n",
    "    print(fact)"
   ]
  },
  {
   "cell_type": "code",
   "execution_count": 23,
   "metadata": {},
   "outputs": [
    {
     "name": "stdout",
     "output_type": "stream",
     "text": [
      "enter n : 5\n",
      "120\n"
     ]
    }
   ],
   "source": [
    "n=int(input(\"enter n : \"))\n",
    "\n",
    "fact=1\n",
    "\n",
    "while (n):\n",
    "    fact=fact*n\n",
    "    n=n-1 # n-=1\n",
    "print(fact)"
   ]
  },
  {
   "cell_type": "markdown",
   "metadata": {},
   "source": [
    "## Take 10 integers from keyboard using loop and print their sum and average value on the screen"
   ]
  },
  {
   "cell_type": "code",
   "execution_count": 27,
   "metadata": {},
   "outputs": [
    {
     "name": "stdout",
     "output_type": "stream",
     "text": [
      "enter a number: 1\n",
      "enter a number: 2\n",
      "enter a number: 3\n",
      "enter a number: 4\n",
      "enter a number: 5\n",
      "enter a number: 6\n",
      "enter a number: 7\n",
      "enter a number: 8\n",
      "enter a number: 9\n",
      "enter a number: 10\n",
      "sum =  55\n",
      "average =  5.5\n"
     ]
    }
   ],
   "source": [
    "sum=0 # initialization\n",
    "n=10 # will take only 10 inputs\n",
    "\n",
    "while n>0:\n",
    "    num=int(input(\"enter a number: \"))\n",
    "    sum+=num\n",
    "    n=n-1\n",
    "print(\"sum = \",sum)\n",
    "print(\"average = \",sum/10)"
   ]
  },
  {
   "cell_type": "markdown",
   "metadata": {},
   "source": [
    "# 5 integers using loop and print their multiplication"
   ]
  },
  {
   "cell_type": "code",
   "execution_count": 28,
   "metadata": {},
   "outputs": [
    {
     "name": "stdout",
     "output_type": "stream",
     "text": [
      "enter a number: 1\n",
      "enter a number: 2\n",
      "enter a number: 3\n",
      "enter a number: 4\n",
      "enter a number: 5\n",
      "multiplied =  120\n"
     ]
    }
   ],
   "source": [
    "multiply=1 # initialization\n",
    "n=5 # will take only 5 inputs\n",
    "\n",
    "while n>0:\n",
    "    num=int(input(\"enter a number: \"))\n",
    "    multiply*=num\n",
    "    n=n-1\n",
    "print(\"multiplied = \",multiply)"
   ]
  },
  {
   "attachments": {
    "image.png": {
     "image/png": "[encoded data removed]"
    }
   },
   "cell_type": "markdown",
   "metadata": {},
   "source": [
    "## Print the following patterns using loop :\n",
    "![image.png](attachment:image.png)"
   ]
  },
  {
   "cell_type": "code",
   "execution_count": 29,
   "metadata": {},
   "outputs": [
    {
     "name": "stdout",
     "output_type": "stream",
     "text": [
      " * \n",
      " *  * \n",
      " *  *  * \n",
      " *  *  *  * \n"
     ]
    }
   ],
   "source": [
    "i=1 # only 1 star at the start\n",
    "while i<=4:# 4 stars total at the end\n",
    "    print(i*\" * \")\n",
    "    i+=1 # increment\n"
   ]
  },
  {
   "cell_type": "code",
   "execution_count": null,
   "metadata": {},
   "outputs": [],
   "source": []
  },
  {
   "cell_type": "markdown",
   "metadata": {},
   "source": [
    "## Write a program to display the first 7 multiples of 7.\n"
   ]
  },
  {
   "cell_type": "code",
   "execution_count": 31,
   "metadata": {},
   "outputs": [
    {
     "name": "stdout",
     "output_type": "stream",
     "text": [
      "0 7 14 21 28 35 42 49 "
     ]
    }
   ],
   "source": [
    "count=0\n",
    "\n",
    "for i in range(50):\n",
    "    if i%7==0:\n",
    "        print(i,end=\" \")"
   ]
  },
  {
   "cell_type": "code",
   "execution_count": 36,
   "metadata": {},
   "outputs": [
    {
     "name": "stdout",
     "output_type": "stream",
     "text": [
      "0 7 14 21 28 35 42 49 "
     ]
    }
   ],
   "source": [
    "counter=0\n",
    "\n",
    "for i in range(1000):\n",
    "    if i%7==0:\n",
    "        print(i,end=\" \")\n",
    "        counter+=1\n",
    "        if counter==8:\n",
    "            break"
   ]
  },
  {
   "cell_type": "markdown",
   "metadata": {},
   "source": [
    "## Write a program that appends the square of each number to a new list."
   ]
  },
  {
   "cell_type": "code",
   "execution_count": 37,
   "metadata": {},
   "outputs": [
    {
     "name": "stdout",
     "output_type": "stream",
     "text": [
      "[1]\n",
      "[1, 4]\n",
      "[1, 4, 9]\n",
      "[1, 4, 9, 16]\n",
      "[1, 4, 9, 16, 25]\n",
      "result-  [1, 4, 9, 16, 25]\n"
     ]
    }
   ],
   "source": [
    "x=[1,2,3,4,5]\n",
    "y=[]\n",
    "\n",
    "for i in range(len(x)):# i is controlling the index of the x list\n",
    "    y.append(x[i]**2)\n",
    "    print(y)\n",
    "print(\"result- \",y)"
   ]
  },
  {
   "cell_type": "code",
   "execution_count": null,
   "metadata": {},
   "outputs": [],
   "source": []
  },
  {
   "cell_type": "markdown",
   "metadata": {},
   "source": [
    "## Separate positive and negative number from a list.\n",
    "x = [23,12,-4,23,-9,21,3,-45,-8]"
   ]
  },
  {
   "cell_type": "code",
   "execution_count": 38,
   "metadata": {},
   "outputs": [
    {
     "name": "stdout",
     "output_type": "stream",
     "text": [
      "positives:  [23, 12, 23, 21, 3]\n",
      "negatives:  [-4, -9, -45, -8]\n"
     ]
    }
   ],
   "source": [
    "x = [23,12,-4,23,-9,21,3,-45,-8]\n",
    "pos=[]\n",
    "neg=[]\n",
    "\n",
    "for i in range(len(x)):\n",
    "    if x[i]>=0:\n",
    "        pos.append(x[i])\n",
    "    else:\n",
    "        neg.append(x[i])\n",
    "print(\"positives: \",pos)\n",
    "print(\"negatives: \",neg)"
   ]
  },
  {
   "cell_type": "code",
   "execution_count": null,
   "metadata": {},
   "outputs": [],
   "source": []
  }
 ],
 "metadata": {
  "celltoolbar": "Slideshow",
  "kernelspec": {
   "display_name": "Python 3 (ipykernel)",
   "language": "python",
   "name": "python3"
  },
  "language_info": {
   "codemirror_mode": {
    "name": "ipython",
    "version": 3
   },
   "file_extension": ".py",
   "mimetype": "text/x-python",
   "name": "python",
   "nbconvert_exporter": "python",
   "pygments_lexer": "ipython3",
   "version": "3.9.13"
  }
 },
 "nbformat": 4,
 "nbformat_minor": 2
}
