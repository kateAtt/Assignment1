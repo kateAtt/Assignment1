{
 "cells": [
  {
   "cell_type": "markdown",
   "id": "4dc81516",
   "metadata": {},
   "source": [
    "# Assignment 3\n",
    "## CS 150 SP23\n",
    "### Kate Attias"
   ]
  },
  {
   "cell_type": "markdown",
   "id": "cc3b2d88",
   "metadata": {},
   "source": [
    "#### append() = adds a value to the end\n",
    "#### extend() = adds single or multiple value/s to the end of a list\n",
    "#### insert() = inserts a value at a specified position\n",
    "#### remove() =  takes out the value at the first time in the sequence\n",
    "#### count() =  tells how many of a value in a list\n",
    "#### index() = finds the index position of a value\n",
    "#### pop() = removes value at specified position\n",
    "#### sorted() = creates a new list that sorts the values in the original list\n",
    "#### copy() = gives a copy of the list\n",
    "#### clear() = clears values from a list\n",
    "#### list() = creates a list object\n"
   ]
  },
  {
   "cell_type": "code",
   "execution_count": 3,
   "id": "1a9407ba",
   "metadata": {},
   "outputs": [
    {
     "name": "stdout",
     "output_type": "stream",
     "text": [
      "[1, 3, 2, 4, 6, 5, 7, 9, 8]\n"
     ]
    }
   ],
   "source": [
    "example=[1,3,2,4,6,5,7,9,8]\n",
    "print(example)"
   ]
  },
  {
   "cell_type": "code",
   "execution_count": 4,
   "id": "6f45d0a0",
   "metadata": {},
   "outputs": [],
   "source": [
    "example.append(10)"
   ]
  },
  {
   "cell_type": "code",
   "execution_count": 5,
   "id": "d15da539",
   "metadata": {},
   "outputs": [
    {
     "name": "stdout",
     "output_type": "stream",
     "text": [
      "[1, 3, 2, 4, 6, 5, 7, 9, 8, 10]\n"
     ]
    }
   ],
   "source": [
    "print(example)"
   ]
  },
  {
   "cell_type": "code",
   "execution_count": 8,
   "id": "db339c34",
   "metadata": {},
   "outputs": [
    {
     "name": "stdout",
     "output_type": "stream",
     "text": [
      "[1, 3, 2, 4, 6, 5, 7, 9, 8, 10, 11, 12, 13]\n"
     ]
    }
   ],
   "source": [
    "extended=[11,12,13]\n",
    "example.extend(extended)\n",
    "print(example)"
   ]
  },
  {
   "cell_type": "code",
   "execution_count": 9,
   "id": "f0afccf9",
   "metadata": {},
   "outputs": [
    {
     "name": "stdout",
     "output_type": "stream",
     "text": [
      "[1, 3, 2, 4, 6, 5, 7, 9, 8, 10, 11, 12, 13, 14]\n"
     ]
    }
   ],
   "source": [
    "example.insert(13,14)\n",
    "print(example)"
   ]
  },
  {
   "cell_type": "code",
   "execution_count": 10,
   "id": "093ff0f9",
   "metadata": {},
   "outputs": [
    {
     "name": "stdout",
     "output_type": "stream",
     "text": [
      "[1, 3, 2, 4, 6, 5, 7, 9, 8, 10, 11, 12, 13]\n"
     ]
    }
   ],
   "source": [
    "example.remove(14)\n",
    "print(example)"
   ]
  },
  {
   "cell_type": "code",
   "execution_count": 12,
   "id": "e7f19d9e",
   "metadata": {},
   "outputs": [
    {
     "data": {
      "text/plain": [
       "1"
      ]
     },
     "execution_count": 12,
     "metadata": {},
     "output_type": "execute_result"
    }
   ],
   "source": [
    "example.count(7)"
   ]
  },
  {
   "cell_type": "code",
   "execution_count": 13,
   "id": "a30a0111",
   "metadata": {},
   "outputs": [
    {
     "data": {
      "text/plain": [
       "4"
      ]
     },
     "execution_count": 13,
     "metadata": {},
     "output_type": "execute_result"
    }
   ],
   "source": [
    "example.index(6)"
   ]
  },
  {
   "cell_type": "code",
   "execution_count": 14,
   "id": "9b47f2fe",
   "metadata": {},
   "outputs": [
    {
     "name": "stdout",
     "output_type": "stream",
     "text": [
      "[1, 3, 2, 4, 6, 5, 7, 9, 8, 10, 11, 12]\n"
     ]
    }
   ],
   "source": [
    "example.pop(12)\n",
    "print(example)"
   ]
  },
  {
   "cell_type": "code",
   "execution_count": 15,
   "id": "523babd0",
   "metadata": {},
   "outputs": [
    {
     "name": "stdout",
     "output_type": "stream",
     "text": [
      "[1, 2, 3, 4, 5, 6, 7, 8, 9, 10, 11, 12]\n"
     ]
    }
   ],
   "source": [
    "print(sorted(example))"
   ]
  },
  {
   "cell_type": "code",
   "execution_count": 16,
   "id": "48ac5cf3",
   "metadata": {},
   "outputs": [
    {
     "name": "stdout",
     "output_type": "stream",
     "text": [
      "[1, 3, 2, 4, 6, 5, 7, 9, 8, 10, 11, 12]\n"
     ]
    }
   ],
   "source": [
    "ex2=example.copy()\n",
    "print(ex2)"
   ]
  },
  {
   "cell_type": "code",
   "execution_count": 17,
   "id": "4a17ae19",
   "metadata": {},
   "outputs": [
    {
     "name": "stdout",
     "output_type": "stream",
     "text": [
      "[]\n"
     ]
    }
   ],
   "source": [
    "ex2.clear()\n",
    "print(ex2)"
   ]
  },
  {
   "cell_type": "code",
   "execution_count": 19,
   "id": "6f6c871c",
   "metadata": {},
   "outputs": [
    {
     "name": "stdout",
     "output_type": "stream",
     "text": [
      "['a', 'b', 'c', 'd', 'e']\n"
     ]
    }
   ],
   "source": [
    "tuple1=('a','b','c','d','e')\n",
    "list1=list(tuple1)\n",
    "print(list1)"
   ]
  },
  {
   "cell_type": "code",
   "execution_count": null,
   "id": "81380498",
   "metadata": {},
   "outputs": [],
   "source": []
  },
  {
   "cell_type": "markdown",
   "id": "4ecc6e0a",
   "metadata": {},
   "source": [
    "### len() = gives the length of the sequence\n",
    "### max() = gives the maximum value\n",
    "### min() = gives the minimum value "
   ]
  },
  {
   "cell_type": "code",
   "execution_count": 2,
   "id": "cec751db",
   "metadata": {},
   "outputs": [
    {
     "name": "stdout",
     "output_type": "stream",
     "text": [
      "[1, 2, 3, 4, 5, 6, 7]\n"
     ]
    }
   ],
   "source": [
    "list1=[1,2,3,4,5,6,7]\n",
    "print(list1)"
   ]
  },
  {
   "cell_type": "code",
   "execution_count": 5,
   "id": "16536624",
   "metadata": {},
   "outputs": [
    {
     "data": {
      "text/plain": [
       "7"
      ]
     },
     "execution_count": 5,
     "metadata": {},
     "output_type": "execute_result"
    }
   ],
   "source": [
    "len(list1)"
   ]
  },
  {
   "cell_type": "code",
   "execution_count": 3,
   "id": "60a127ff",
   "metadata": {},
   "outputs": [
    {
     "data": {
      "text/plain": [
       "7"
      ]
     },
     "execution_count": 3,
     "metadata": {},
     "output_type": "execute_result"
    }
   ],
   "source": [
    "max(list1)"
   ]
  },
  {
   "cell_type": "code",
   "execution_count": 4,
   "id": "0b5ff294",
   "metadata": {},
   "outputs": [
    {
     "data": {
      "text/plain": [
       "1"
      ]
     },
     "execution_count": 4,
     "metadata": {},
     "output_type": "execute_result"
    }
   ],
   "source": [
    "min(list1)"
   ]
  }
 ],
 "metadata": {
  "kernelspec": {
   "display_name": "Python 3 (ipykernel)",
   "language": "python",
   "name": "python3"
  },
  "language_info": {
   "codemirror_mode": {
    "name": "ipython",
    "version": 3
   },
   "file_extension": ".py",
   "mimetype": "text/x-python",
   "name": "python",
   "nbconvert_exporter": "python",
   "pygments_lexer": "ipython3",
   "version": "3.9.13"
  }
 },
 "nbformat": 4,
 "nbformat_minor": 5
}
